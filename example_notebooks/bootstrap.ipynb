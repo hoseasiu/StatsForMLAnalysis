{
 "cells": [
  {
   "attachments": {},
   "cell_type": "markdown",
   "metadata": {},
   "source": [
    "# Boostrapping demo"
   ]
  },
  {
   "cell_type": "code",
   "execution_count": 2,
   "metadata": {},
   "outputs": [],
   "source": [
    "import numpy as np\n",
    "import matplotlib.pyplot as plt\n",
    "import pandas as pd"
   ]
  },
  {
   "cell_type": "code",
   "execution_count": 31,
   "metadata": {},
   "outputs": [],
   "source": [
    "anscombe_data = pd.read_csv(\"anscombe.csv\",index_col=\"id\")\n",
    "sample = anscombe_data['y'].values[0:20]\n",
    "# sample = np.append(sample, 200)\n",
    "\n",
    "# here, we're only using the Abscombe data for convenience/consistency,\n",
    "# not because it has specific properties we care about"
   ]
  },
  {
   "cell_type": "code",
   "execution_count": 39,
   "metadata": {},
   "outputs": [
    {
     "data": {
      "text/plain": [
       "(0.0, 3052.35)"
      ]
     },
     "execution_count": 39,
     "metadata": {},
     "output_type": "execute_result"
    },
    {
     "data": {
      "image/png": "[encoded data removed]",
      "text/plain": [
       "<Figure size 640x480 with 1 Axes>"
      ]
     },
     "metadata": {},
     "output_type": "display_data"
    }
   ],
   "source": [
    "n_resamples = 10000\n",
    "\n",
    "alpha = 0.05\n",
    "\n",
    "sample_mean = np.mean(sample)\n",
    "resample_means = np.zeros(n_resamples)\n",
    "\n",
    "for i in range(n_resamples):\n",
    "    # sample with replacement (replace = true by default, but I'm putting it here for emphasis)\n",
    "    resample = np.random.choice(sample, len(sample), replace=True)\n",
    "\n",
    "    resample_means[i] = np.mean(resample)\n",
    "\n",
    "plt.hist(resample_means)\n",
    "ymin, ymax = plt.gca().get_ylim()\n",
    "plt.vlines(sample_mean, ymin, ymax, colors = 'r')\n",
    "\n",
    "# basic bootstrap\n",
    "plt.vlines([2*sample_mean-np.quantile(resample_means, alpha/2),\n",
    "            2*sample_mean-np.quantile(resample_means, 1-alpha/2)],\n",
    "            ymin, ymax, colors = 'k', linestyles='--')\n",
    "\n",
    "# percentile bootstrap\n",
    "plt.vlines(np.quantile(resample_means,[alpha/2,1-alpha/2]), ymin, ymax, colors = 'k')\n",
    "\n",
    "plt.ylim([ymin, ymax])\n",
    "\n"
   ]
  },
  {
   "cell_type": "code",
   "execution_count": 36,
   "metadata": {},
   "outputs": [
    {
     "data": {
      "text/plain": [
       "8.529037499999998"
      ]
     },
     "execution_count": 36,
     "metadata": {},
     "output_type": "execute_result"
    }
   ],
   "source": [
    "2*sample_mean-np.quantile(resample_means,alpha/2)"
   ]
  },
  {
   "cell_type": "code",
   "execution_count": 37,
   "metadata": {},
   "outputs": [
    {
     "data": {
      "text/plain": [
       "6.8554999999999975"
      ]
     },
     "execution_count": 37,
     "metadata": {},
     "output_type": "execute_result"
    }
   ],
   "source": [
    "2*sample_mean-np.quantile(resample_means, 1-alpha/2)"
   ]
  },
  {
   "cell_type": "code",
   "execution_count": null,
   "metadata": {},
   "outputs": [],
   "source": []
  }
 ],
 "metadata": {
  "kernelspec": {
   "display_name": "base",
   "language": "python",
   "name": "python3"
  },
  "language_info": {
   "codemirror_mode": {
    "name": "ipython",
    "version": 3
   },
   "file_extension": ".py",
   "mimetype": "text/x-python",
   "name": "python",
   "nbconvert_exporter": "python",
   "pygments_lexer": "ipython3",
   "version": "3.9.13 (main, Aug 25 2022, 23:51:50) [MSC v.1916 64 bit (AMD64)]"
  },
  "orig_nbformat": 4,
  "vscode": {
   "interpreter": {
    "hash": "1d45ca32e407921e2d933e9a36d35abcd417887ba5acf93fb01be4f390fb9c31"
   }
  }
 },
 "nbformat": 4,
 "nbformat_minor": 2
}
